{
  "nbformat": 4,
  "nbformat_minor": 0,
  "metadata": {
    "colab": {
      "name": "EsembleRNN.ipynb",
      "provenance": [],
      "toc_visible": true
    },
    "kernelspec": {
      "name": "python3",
      "display_name": "Python 3"
    },
    "accelerator": "GPU"
  },
  "cells": [
    {
      "cell_type": "markdown",
      "metadata": {
        "id": "RwDAgmRblWz6",
        "colab_type": "text"
      },
      "source": [
        "# Importing Libraries"
      ]
    },
    {
      "cell_type": "code",
      "metadata": {
        "id": "GGODZUi_hJI6",
        "colab_type": "code",
        "colab": {}
      },
      "source": [
        "import pandas as pd\n",
        "import numpy as np\n",
        "import matplotlib.pyplot as plt\n",
        "\n",
        "\n",
        "from sklearn.preprocessing import MinMaxScaler\n",
        "\n",
        "from tensorflow.keras.models import load_model\n",
        "from tensorflow.keras.models import Sequential,Model\n",
        "from tensorflow.keras.layers import Dense\n",
        "from tensorflow.keras.layers import LSTM,GRU,Dense,TimeDistributed\n",
        "from tensorflow.keras import Input"
      ],
      "execution_count": 1,
      "outputs": []
    },
    {
      "cell_type": "markdown",
      "metadata": {
        "id": "5iUGY3qPlaaC",
        "colab_type": "text"
      },
      "source": [
        "# Importing DataBase"
      ]
    },
    {
      "cell_type": "code",
      "metadata": {
        "id": "JuSiYC8eLogV",
        "colab_type": "code",
        "colab": {
          "base_uri": "https://localhost:8080/",
          "height": 35
        },
        "outputId": "3948bef0-7890-4334-8eb1-3a09aca247ae"
      },
      "source": [
        "from google.colab import drive\n",
        "drive.mount('/content/drive')"
      ],
      "execution_count": 2,
      "outputs": [
        {
          "output_type": "stream",
          "text": [
            "Drive already mounted at /content/drive; to attempt to forcibly remount, call drive.mount(\"/content/drive\", force_remount=True).\n"
          ],
          "name": "stdout"
        }
      ]
    },
    {
      "cell_type": "code",
      "metadata": {
        "id": "yhjDfefMkFre",
        "colab_type": "code",
        "colab": {}
      },
      "source": [
        "df_daily = pd.read_csv('/content/drive/My Drive/ML Projects/Pharma Sales/Data/salesdaily.csv')"
      ],
      "execution_count": 3,
      "outputs": []
    },
    {
      "cell_type": "markdown",
      "metadata": {
        "id": "66FCb02FlfyM",
        "colab_type": "text"
      },
      "source": [
        "# Importing Pre-Treined models"
      ]
    },
    {
      "cell_type": "code",
      "metadata": {
        "id": "4pC5kWVxlowD",
        "colab_type": "code",
        "colab": {}
      },
      "source": [
        "gru_mrf = load_model('/content/drive/My Drive/ML Projects/Pharma Sales/GRU Models/GRU_MostRelavantFeatures.h5') #time_step = 30\n",
        "gru_mrf_wm = load_model('/content/drive/My Drive/ML Projects/Pharma Sales/GRU Models/GRU_MostRelavantFeatures_weekdayMonth.h5')#time_step = 120\n",
        "gru = load_model('/content/drive/My Drive/ML Projects/Pharma Sales/GRU Models/GRU_OneFeature.h5')#time_step = 30\n",
        "gru_wm = load_model('/content/drive/My Drive/ML Projects/Pharma Sales/GRU Models/GRU_weekdayMonth.h5')#time_step = 120\n",
        "gru_wm_cylic = load_model('/content/drive/My Drive/ML Projects/Pharma Sales/GRU Models/GRU_weekdayMonth_cyclic.h5')#time_step = 120"
      ],
      "execution_count": 4,
      "outputs": []
    },
    {
      "cell_type": "code",
      "metadata": {
        "id": "YSssEYLFtgJK",
        "colab_type": "code",
        "colab": {}
      },
      "source": [
        "lstm_mrf_wm = load_model('/content/drive/My Drive/ML Projects/Pharma Sales/LSTM Models/LSTM_multiFeature_mostRelevantFeatures_weekdayMonth.h5')#time_step = 60\n",
        "lstm = load_model('/content/drive/My Drive/ML Projects/Pharma Sales/LSTM Models/LSTM_oneFeature.h5')#time_step = 30\n",
        "lstm_wm = load_model('/content/drive/My Drive/ML Projects/Pharma Sales/LSTM Models/LSTM_multiFeature_weekdayMonth.h5')#time_step = 60"
      ],
      "execution_count": 5,
      "outputs": []
    },
    {
      "cell_type": "markdown",
      "metadata": {
        "id": "pApSDRUTlpiE",
        "colab_type": "text"
      },
      "source": [
        "#Functions"
      ]
    },
    {
      "cell_type": "code",
      "metadata": {
        "id": "1RCXMaclkpE0",
        "colab_type": "code",
        "colab": {}
      },
      "source": [
        "def dataSplit(df,train_percent,val_percent):\n",
        "  train_limit = int(round((df.shape[0])*train_percent,0))\n",
        "  val_limit = int(round((df.shape[0])*(train_percent+val_percent),0))\n",
        "  \n",
        "  df_train = df[:train_limit]\n",
        "  df_val = df[train_limit:val_limit]\n",
        "  df_test = df[val_limit:]\n",
        "\n",
        "  print(df_train.shape)\n",
        "  print(df_val.shape)\n",
        "  print(df_test.shape)\n",
        "\n",
        "  return df_train,df_val,df_test"
      ],
      "execution_count": 6,
      "outputs": []
    },
    {
      "cell_type": "code",
      "metadata": {
        "id": "ZmW1QqKYk5H7",
        "colab_type": "code",
        "colab": {}
      },
      "source": [
        "def normalizing_data(df_train,df_val,df_test,frange):\n",
        "  sc = MinMaxScaler(feature_range = frange)\n",
        "  try:\n",
        "    aux = df_train.shape[1]\n",
        "    df_train_norm = sc.fit_transform(df_train)\n",
        "    df_val_norm = sc.transform(df_val)\n",
        "    df_test_norm = sc.transform(df_test)\n",
        "\n",
        "  except:\n",
        "    df_train = df_train.values.reshape(-1,1)\n",
        "    df_val = df_val.values.reshape(-1,1)\n",
        "    df_test = df_test.values.reshape(-1,1)\n",
        "\n",
        "    \n",
        "    df_train_norm = sc.fit_transform(df_train)\n",
        "    df_val_norm = sc.transform(df_val)\n",
        "    df_test_norm = sc.transform(df_test)\n",
        "\n",
        "  print(df_train_norm.max(axis=0))\n",
        "  print(df_train_norm.min(axis=0))\n",
        "  print('\\n')\n",
        "\n",
        "  print(df_val_norm.max(axis=0))\n",
        "  print(df_val_norm.min(axis=0))\n",
        "  print('\\n')\n",
        "\n",
        "  print(df_test_norm.max(axis=0))\n",
        "  print(df_test_norm.min(axis=0))\n",
        "\n",
        "  print('-------------------------')\n",
        "\n",
        "  print(df_train_norm.shape)\n",
        "  print(df_val_norm.shape)\n",
        "  print(df_test_norm.shape)\n",
        "  return df_train_norm,df_val_norm,df_test_norm"
      ],
      "execution_count": 7,
      "outputs": []
    },
    {
      "cell_type": "code",
      "metadata": {
        "id": "aToqkkEJluMV",
        "colab_type": "code",
        "colab": {}
      },
      "source": [
        "def Regressor(future_steps,time_steps,n_features,df_train,df_val,df_test):\n",
        "  # future_steps: how many days in the furure to predict \n",
        "  # time_steps: number of samples the LSTM model will use for predict 28 days in the future\n",
        "  # n_features: number of features (LSTM input) \n",
        "\n",
        "  #################### TRAIN #################################################\n",
        "  # Defining the number of samples for the train data\n",
        "  n_samples = df_train.shape[0]\n",
        "  x_train = []\n",
        "  y_train = []\n",
        "\n",
        "  # shaping data to have the number of time_steps in the x_train ans the 28 future values in the y_train \n",
        "  for i in range(time_steps,n_samples - future_steps): \n",
        "    x_train.append(df_train[i - time_steps : i, :]) \n",
        "    y_train.append(df_train[i : i + future_steps, -1 ]) \n",
        "\n",
        "  x_train,y_train = np.array(x_train),np.array(y_train) # transforming in array\n",
        "  # LSTM need 3D tensor as input \n",
        "  x_train = np.reshape(x_train,(x_train.shape[0],x_train.shape[1],n_features))  \n",
        "\n",
        "  ##################### VALIDATION ###############################################\n",
        "\n",
        "  df_val = np.concatenate((df_train[-time_steps:],df_val))\n",
        "\n",
        "  n_samples = df_val.shape[0]\n",
        "  x_val = []\n",
        "  y_val = []\n",
        "\n",
        "  for i in range(time_steps,n_samples - future_steps):\n",
        "    x_val.append(df_val[i - time_steps : i, :]) \n",
        "    y_val.append(df_val[i : i + future_steps,-1]) \n",
        "\n",
        "  x_val,y_val = np.array(x_val),np.array(y_val)\n",
        "  x_val = np.reshape(x_val,(x_val.shape[0],x_val.shape[1],n_features))\n",
        "\n",
        "  ####################### TEST ################################################\n",
        "\n",
        "  df_test = np.concatenate((df_val[-time_steps:],df_test))\n",
        "  n_samples = df_test.shape[0]\n",
        "  x_test = []\n",
        "  y_test = []\n",
        "\n",
        "  for i in range(time_steps,n_samples - future_steps):\n",
        "    x_test.append(df_test[i - time_steps : i, :]) \n",
        "    y_test.append(df_test[i : i + future_steps,-1]) \n",
        "\n",
        "  x_test,y_test = np.array(x_test),np.array(y_test)\n",
        "  x_test = np.reshape(x_test,(x_test.shape[0],x_test.shape[1],n_features))\n",
        "\n",
        "  x_train = x_train.astype(np.float32)\n",
        "  y_train = y_train.astype(np.float32)\n",
        "\n",
        "  x_val = x_val.astype(np.float32)\n",
        "  y_val = y_val.astype(np.float32)\n",
        "\n",
        "  x_test = x_test.astype(np.float32)\n",
        "  y_test = y_test.astype(np.float32)\n",
        "  \n",
        "  return x_train,x_test,x_val,y_train,y_val,y_test"
      ],
      "execution_count": 8,
      "outputs": []
    },
    {
      "cell_type": "markdown",
      "metadata": {
        "id": "Hdi7Rh0LNQSv",
        "colab_type": "text"
      },
      "source": [
        "# Colaborative predictions\n",
        "\n",
        "The main idea it's to use multiple RNN predictions to make a better final prediction. \n",
        "This notebook will implement exactly the diagram below:  \n",
        "\n",
        "![image.png](data:image/png;base64,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)\n",
        "\n",
        "----\n",
        "\n",
        "The RNN's are pre-treined and have already been imported, the next step it's to prepare the data to create the proposed architecture.\n"
      ]
    },
    {
      "cell_type": "markdown",
      "metadata": {
        "id": "7fYzcv0YJ5fs",
        "colab_type": "text"
      },
      "source": [
        "# Data Preparetion\n",
        "\n",
        "This topic will be divided in two parts:\n",
        "\n",
        "- Data prep for networks that have been trained with the `same number` of times steps.\n",
        "\n",
        "- Data prep for networks that have been trained with `differents numbers` of times steps\n",
        "\n",
        "---\n",
        "\n",
        "It's important to remember that some networks have been trained with differents types of extra features (they were all trained with the target feature) , so some input maybe differents than others."
      ]
    },
    {
      "cell_type": "markdown",
      "metadata": {
        "id": "bwk2qzOifyHq",
        "colab_type": "text"
      },
      "source": [
        "## Creating Extra Features"
      ]
    },
    {
      "cell_type": "code",
      "metadata": {
        "id": "WGvF32tbfxUc",
        "colab_type": "code",
        "colab": {
          "base_uri": "https://localhost:8080/",
          "height": 305
        },
        "outputId": "d2bfbce7-47d3-4dc2-f878-e5a3750966ee"
      },
      "source": [
        "df_daily = df_daily[['datum','Weekday Name','N02BE']]\n",
        "df_daily.columns = ['data','weekday','N02BE']\n",
        "\n",
        "df_daily['data'] = pd.to_datetime(df_daily['data'])\n",
        "df_daily['month'] = df_daily['data'].dt.month\n",
        "df_daily = df_daily[['weekday','month','N02BE']]\n",
        "\n",
        "df_daily = pd.concat([pd.get_dummies(df_daily['weekday']),df_daily],axis=1)\n",
        "dict_ = {'Monday':1,'Tuesday':2,'Wednesday':3,'Thursday':4,'Friday':5,'Saturday':6,'Sunday':7}\n",
        "df_daily['weekday'].replace(dict_,inplace = True)\n",
        "\n",
        "df_daily = pd.concat([pd.get_dummies(df_daily['month']),df_daily],axis=1)\n",
        "\n",
        "df_daily['weekday_sin'] = np.sin(df_daily['weekday']*(2.*np.pi/24))\n",
        "df_daily['weekday_cos'] = np.cos(df_daily['weekday']*(2.*np.pi/24))\n",
        "df_daily['month_sin'] = np.sin((df_daily['month']-1)*(2.*np.pi/12))\n",
        "df_daily['month_cos'] = np.cos((df_daily['month']-1)*(2.*np.pi/12))\n",
        "\n",
        "df_daily['lag1'] = df_daily['N02BE'].shift(1)\n",
        "df_daily['lag2'] = df_daily['N02BE'].shift(2)\n",
        "df_daily['lag3'] = df_daily['N02BE'].shift(3)\n",
        "df_daily['lag4'] = df_daily['N02BE'].shift(4)\n",
        "df_daily['lag5'] = df_daily['N02BE'].shift(5)\n",
        "df_daily['lag6'] = df_daily['N02BE'].shift(6)\n",
        "df_daily['lag7'] = df_daily['N02BE'].shift(7)\n",
        "df_daily['lag30'] = df_daily['N02BE'].shift(30)\n",
        "df_daily['lag60'] = df_daily['N02BE'].shift(60)\n",
        "df_daily['lag120'] = df_daily['N02BE'].shift(120)\n",
        "df_daily['lag240'] = df_daily['N02BE'].shift(240)\n",
        "\n",
        "df_daily['rolling_mean_2'] = df_daily['N02BE'].rolling(window = 2).mean()\n",
        "df_daily['rolling_mean_3'] = df_daily['N02BE'].rolling(window = 3).mean()\n",
        "df_daily['rolling_mean_4'] = df_daily['N02BE'].rolling(window = 4).mean()\n",
        "df_daily['rolling_mean_5'] = df_daily['N02BE'].rolling(window = 5).mean()\n",
        "df_daily['rolling_mean_6'] = df_daily['N02BE'].rolling(window = 6).mean()\n",
        "df_daily['rolling_mean_7'] = df_daily['N02BE'].rolling(window = 7).mean()\n",
        "df_daily['rolling_mean_30'] = df_daily['N02BE'].rolling(window = 30).mean()\n",
        "df_daily['rolling_mean_60'] = df_daily['N02BE'].rolling(window = 60).mean()\n",
        "df_daily['rolling_mean_120'] = df_daily['N02BE'].rolling(window = 120).mean()\n",
        "df_daily['rolling_mean_240'] = df_daily['N02BE'].rolling(window = 240).mean()\n",
        "\n",
        "df_daily = df_daily[['weekday','Monday','Tuesday','Wednesday','Thursday','Friday','Saturday','Sunday','weekday_sin','weekday_cos','month',1,2,3,4,5,6,7,8,9,10,11,12,'month_sin','month_cos',\n",
        "          'lag1','lag2','lag3','lag4','lag5','lag6','lag7','lag30','lag60','lag120','lag240',\n",
        "          'rolling_mean_2','rolling_mean_3','rolling_mean_4','rolling_mean_5','rolling_mean_6','rolling_mean_7','rolling_mean_30','rolling_mean_60','rolling_mean_120','rolling_mean_240',\n",
        "          'N02BE']]\n",
        "\n",
        "df_daily.fillna(0,inplace = True)\n",
        "\n",
        "df_daily.head()"
      ],
      "execution_count": 9,
      "outputs": [
        {
          "output_type": "execute_result",
          "data": {
            "text/html": [
              "<div>\n",
              "<style scoped>\n",
              "    .dataframe tbody tr th:only-of-type {\n",
              "        vertical-align: middle;\n",
              "    }\n",
              "\n",
              "    .dataframe tbody tr th {\n",
              "        vertical-align: top;\n",
              "    }\n",
              "\n",
              "    .dataframe thead th {\n",
              "        text-align: right;\n",
              "    }\n",
              "</style>\n",
              "<table border=\"1\" class=\"dataframe\">\n",
              "  <thead>\n",
              "    <tr style=\"text-align: right;\">\n",
              "      <th></th>\n",
              "      <th>weekday</th>\n",
              "      <th>Monday</th>\n",
              "      <th>Tuesday</th>\n",
              "      <th>Wednesday</th>\n",
              "      <th>Thursday</th>\n",
              "      <th>Friday</th>\n",
              "      <th>Saturday</th>\n",
              "      <th>Sunday</th>\n",
              "      <th>weekday_sin</th>\n",
              "      <th>weekday_cos</th>\n",
              "      <th>month</th>\n",
              "      <th>1</th>\n",
              "      <th>2</th>\n",
              "      <th>3</th>\n",
              "      <th>4</th>\n",
              "      <th>5</th>\n",
              "      <th>6</th>\n",
              "      <th>7</th>\n",
              "      <th>8</th>\n",
              "      <th>9</th>\n",
              "      <th>10</th>\n",
              "      <th>11</th>\n",
              "      <th>12</th>\n",
              "      <th>month_sin</th>\n",
              "      <th>month_cos</th>\n",
              "      <th>lag1</th>\n",
              "      <th>lag2</th>\n",
              "      <th>lag3</th>\n",
              "      <th>lag4</th>\n",
              "      <th>lag5</th>\n",
              "      <th>lag6</th>\n",
              "      <th>lag7</th>\n",
              "      <th>lag30</th>\n",
              "      <th>lag60</th>\n",
              "      <th>lag120</th>\n",
              "      <th>lag240</th>\n",
              "      <th>rolling_mean_2</th>\n",
              "      <th>rolling_mean_3</th>\n",
              "      <th>rolling_mean_4</th>\n",
              "      <th>rolling_mean_5</th>\n",
              "      <th>rolling_mean_6</th>\n",
              "      <th>rolling_mean_7</th>\n",
              "      <th>rolling_mean_30</th>\n",
              "      <th>rolling_mean_60</th>\n",
              "      <th>rolling_mean_120</th>\n",
              "      <th>rolling_mean_240</th>\n",
              "      <th>N02BE</th>\n",
              "    </tr>\n",
              "  </thead>\n",
              "  <tbody>\n",
              "    <tr>\n",
              "      <th>0</th>\n",
              "      <td>4</td>\n",
              "      <td>0</td>\n",
              "      <td>0</td>\n",
              "      <td>0</td>\n",
              "      <td>1</td>\n",
              "      <td>0</td>\n",
              "      <td>0</td>\n",
              "      <td>0</td>\n",
              "      <td>0.866025</td>\n",
              "      <td>5.000000e-01</td>\n",
              "      <td>1</td>\n",
              "      <td>1</td>\n",
              "      <td>0</td>\n",
              "      <td>0</td>\n",
              "      <td>0</td>\n",
              "      <td>0</td>\n",
              "      <td>0</td>\n",
              "      <td>0</td>\n",
              "      <td>0</td>\n",
              "      <td>0</td>\n",
              "      <td>0</td>\n",
              "      <td>0</td>\n",
              "      <td>0</td>\n",
              "      <td>0.0</td>\n",
              "      <td>1.0</td>\n",
              "      <td>0.00</td>\n",
              "      <td>0.00</td>\n",
              "      <td>0.0</td>\n",
              "      <td>0.0</td>\n",
              "      <td>0.0</td>\n",
              "      <td>0.0</td>\n",
              "      <td>0.0</td>\n",
              "      <td>0.0</td>\n",
              "      <td>0.0</td>\n",
              "      <td>0.0</td>\n",
              "      <td>0.0</td>\n",
              "      <td>0.000</td>\n",
              "      <td>0.000000</td>\n",
              "      <td>0.0000</td>\n",
              "      <td>0.00</td>\n",
              "      <td>0.0</td>\n",
              "      <td>0.0</td>\n",
              "      <td>0.0</td>\n",
              "      <td>0.0</td>\n",
              "      <td>0.0</td>\n",
              "      <td>0.0</td>\n",
              "      <td>32.40</td>\n",
              "    </tr>\n",
              "    <tr>\n",
              "      <th>1</th>\n",
              "      <td>5</td>\n",
              "      <td>0</td>\n",
              "      <td>0</td>\n",
              "      <td>0</td>\n",
              "      <td>0</td>\n",
              "      <td>1</td>\n",
              "      <td>0</td>\n",
              "      <td>0</td>\n",
              "      <td>0.965926</td>\n",
              "      <td>2.588190e-01</td>\n",
              "      <td>1</td>\n",
              "      <td>1</td>\n",
              "      <td>0</td>\n",
              "      <td>0</td>\n",
              "      <td>0</td>\n",
              "      <td>0</td>\n",
              "      <td>0</td>\n",
              "      <td>0</td>\n",
              "      <td>0</td>\n",
              "      <td>0</td>\n",
              "      <td>0</td>\n",
              "      <td>0</td>\n",
              "      <td>0</td>\n",
              "      <td>0.0</td>\n",
              "      <td>1.0</td>\n",
              "      <td>32.40</td>\n",
              "      <td>0.00</td>\n",
              "      <td>0.0</td>\n",
              "      <td>0.0</td>\n",
              "      <td>0.0</td>\n",
              "      <td>0.0</td>\n",
              "      <td>0.0</td>\n",
              "      <td>0.0</td>\n",
              "      <td>0.0</td>\n",
              "      <td>0.0</td>\n",
              "      <td>0.0</td>\n",
              "      <td>41.500</td>\n",
              "      <td>0.000000</td>\n",
              "      <td>0.0000</td>\n",
              "      <td>0.00</td>\n",
              "      <td>0.0</td>\n",
              "      <td>0.0</td>\n",
              "      <td>0.0</td>\n",
              "      <td>0.0</td>\n",
              "      <td>0.0</td>\n",
              "      <td>0.0</td>\n",
              "      <td>50.60</td>\n",
              "    </tr>\n",
              "    <tr>\n",
              "      <th>2</th>\n",
              "      <td>6</td>\n",
              "      <td>0</td>\n",
              "      <td>0</td>\n",
              "      <td>0</td>\n",
              "      <td>0</td>\n",
              "      <td>0</td>\n",
              "      <td>1</td>\n",
              "      <td>0</td>\n",
              "      <td>1.000000</td>\n",
              "      <td>6.123234e-17</td>\n",
              "      <td>1</td>\n",
              "      <td>1</td>\n",
              "      <td>0</td>\n",
              "      <td>0</td>\n",
              "      <td>0</td>\n",
              "      <td>0</td>\n",
              "      <td>0</td>\n",
              "      <td>0</td>\n",
              "      <td>0</td>\n",
              "      <td>0</td>\n",
              "      <td>0</td>\n",
              "      <td>0</td>\n",
              "      <td>0</td>\n",
              "      <td>0.0</td>\n",
              "      <td>1.0</td>\n",
              "      <td>50.60</td>\n",
              "      <td>32.40</td>\n",
              "      <td>0.0</td>\n",
              "      <td>0.0</td>\n",
              "      <td>0.0</td>\n",
              "      <td>0.0</td>\n",
              "      <td>0.0</td>\n",
              "      <td>0.0</td>\n",
              "      <td>0.0</td>\n",
              "      <td>0.0</td>\n",
              "      <td>0.0</td>\n",
              "      <td>56.225</td>\n",
              "      <td>48.283333</td>\n",
              "      <td>0.0000</td>\n",
              "      <td>0.00</td>\n",
              "      <td>0.0</td>\n",
              "      <td>0.0</td>\n",
              "      <td>0.0</td>\n",
              "      <td>0.0</td>\n",
              "      <td>0.0</td>\n",
              "      <td>0.0</td>\n",
              "      <td>61.85</td>\n",
              "    </tr>\n",
              "    <tr>\n",
              "      <th>3</th>\n",
              "      <td>7</td>\n",
              "      <td>0</td>\n",
              "      <td>0</td>\n",
              "      <td>0</td>\n",
              "      <td>0</td>\n",
              "      <td>0</td>\n",
              "      <td>0</td>\n",
              "      <td>1</td>\n",
              "      <td>0.965926</td>\n",
              "      <td>-2.588190e-01</td>\n",
              "      <td>1</td>\n",
              "      <td>1</td>\n",
              "      <td>0</td>\n",
              "      <td>0</td>\n",
              "      <td>0</td>\n",
              "      <td>0</td>\n",
              "      <td>0</td>\n",
              "      <td>0</td>\n",
              "      <td>0</td>\n",
              "      <td>0</td>\n",
              "      <td>0</td>\n",
              "      <td>0</td>\n",
              "      <td>0</td>\n",
              "      <td>0.0</td>\n",
              "      <td>1.0</td>\n",
              "      <td>61.85</td>\n",
              "      <td>50.60</td>\n",
              "      <td>32.4</td>\n",
              "      <td>0.0</td>\n",
              "      <td>0.0</td>\n",
              "      <td>0.0</td>\n",
              "      <td>0.0</td>\n",
              "      <td>0.0</td>\n",
              "      <td>0.0</td>\n",
              "      <td>0.0</td>\n",
              "      <td>0.0</td>\n",
              "      <td>51.475</td>\n",
              "      <td>51.183333</td>\n",
              "      <td>46.4875</td>\n",
              "      <td>0.00</td>\n",
              "      <td>0.0</td>\n",
              "      <td>0.0</td>\n",
              "      <td>0.0</td>\n",
              "      <td>0.0</td>\n",
              "      <td>0.0</td>\n",
              "      <td>0.0</td>\n",
              "      <td>41.10</td>\n",
              "    </tr>\n",
              "    <tr>\n",
              "      <th>4</th>\n",
              "      <td>1</td>\n",
              "      <td>1</td>\n",
              "      <td>0</td>\n",
              "      <td>0</td>\n",
              "      <td>0</td>\n",
              "      <td>0</td>\n",
              "      <td>0</td>\n",
              "      <td>0</td>\n",
              "      <td>0.258819</td>\n",
              "      <td>9.659258e-01</td>\n",
              "      <td>1</td>\n",
              "      <td>1</td>\n",
              "      <td>0</td>\n",
              "      <td>0</td>\n",
              "      <td>0</td>\n",
              "      <td>0</td>\n",
              "      <td>0</td>\n",
              "      <td>0</td>\n",
              "      <td>0</td>\n",
              "      <td>0</td>\n",
              "      <td>0</td>\n",
              "      <td>0</td>\n",
              "      <td>0</td>\n",
              "      <td>0.0</td>\n",
              "      <td>1.0</td>\n",
              "      <td>41.10</td>\n",
              "      <td>61.85</td>\n",
              "      <td>50.6</td>\n",
              "      <td>32.4</td>\n",
              "      <td>0.0</td>\n",
              "      <td>0.0</td>\n",
              "      <td>0.0</td>\n",
              "      <td>0.0</td>\n",
              "      <td>0.0</td>\n",
              "      <td>0.0</td>\n",
              "      <td>0.0</td>\n",
              "      <td>31.400</td>\n",
              "      <td>41.550000</td>\n",
              "      <td>43.8125</td>\n",
              "      <td>41.53</td>\n",
              "      <td>0.0</td>\n",
              "      <td>0.0</td>\n",
              "      <td>0.0</td>\n",
              "      <td>0.0</td>\n",
              "      <td>0.0</td>\n",
              "      <td>0.0</td>\n",
              "      <td>21.70</td>\n",
              "    </tr>\n",
              "  </tbody>\n",
              "</table>\n",
              "</div>"
            ],
            "text/plain": [
              "   weekday  Monday  Tuesday  ...  rolling_mean_120  rolling_mean_240  N02BE\n",
              "0        4       0        0  ...               0.0               0.0  32.40\n",
              "1        5       0        0  ...               0.0               0.0  50.60\n",
              "2        6       0        0  ...               0.0               0.0  61.85\n",
              "3        7       0        0  ...               0.0               0.0  41.10\n",
              "4        1       1        0  ...               0.0               0.0  21.70\n",
              "\n",
              "[5 rows x 47 columns]"
            ]
          },
          "metadata": {
            "tags": []
          },
          "execution_count": 9
        }
      ]
    },
    {
      "cell_type": "markdown",
      "metadata": {
        "id": "lS2mk75CVeUW",
        "colab_type": "text"
      },
      "source": [
        "## Same number of times steps \n",
        "\n",
        "30 times steps:\n",
        "- gru_mrf\n",
        "- gru\n",
        "- lstm\n",
        "\n",
        "60 times steps:\n",
        "- lstm_mrf_wm\n",
        "- lstm_wm\n",
        "\n",
        "120 times steps:\n",
        "- gru_mrf_wm\n",
        "- gru_wm\n",
        "- gru_wm_cylic\n"
      ]
    },
    {
      "cell_type": "markdown",
      "metadata": {
        "id": "3OftoOmwVt5s",
        "colab_type": "text"
      },
      "source": [
        "### Input shaping"
      ]
    },
    {
      "cell_type": "markdown",
      "metadata": {
        "id": "fCG62zswfg9w",
        "colab_type": "text"
      },
      "source": [
        "#### 30 Times Steps"
      ]
    },
    {
      "cell_type": "markdown",
      "metadata": {
        "id": "NOwTK_a5ehbY",
        "colab_type": "text"
      },
      "source": [
        "- gru_mrf"
      ]
    },
    {
      "cell_type": "code",
      "metadata": {
        "id": "p8JlHOZJeZE_",
        "colab_type": "code",
        "colab": {
          "base_uri": "https://localhost:8080/",
          "height": 326
        },
        "outputId": "624d0417-6731-4932-c715-65b9787de747"
      },
      "source": [
        "# Spliting and Normalizing\n",
        "df_train,df_val,df_test = dataSplit(df = df_daily[['lag1','rolling_mean_2','rolling_mean_3','N02BE']],train_percent = 0.7,val_percent = 0.15)\n",
        "train_gru_mrf,val_gru_mrf,test_gru_mrf = normalizing_data(df_train,df_val,df_test,frange = (0,1))"
      ],
      "execution_count": 10,
      "outputs": [
        {
          "output_type": "stream",
          "text": [
            "(1474, 4)\n",
            "(316, 4)\n",
            "(316, 4)\n",
            "[1. 1. 1. 1.]\n",
            "[0. 0. 0. 0.]\n",
            "\n",
            "\n",
            "[0.46335404 0.51821283 0.54192647 0.46335404]\n",
            "[0.         0.07067853 0.08834426 0.        ]\n",
            "\n",
            "\n",
            "[0.62173913 0.73377827 0.69222001 0.62173913]\n",
            "[0.         0.05005562 0.09119407 0.        ]\n",
            "-------------------------\n",
            "(1474, 4)\n",
            "(316, 4)\n",
            "(316, 4)\n"
          ],
          "name": "stdout"
        }
      ]
    },
    {
      "cell_type": "code",
      "metadata": {
        "id": "ZEok2V_uJ4de",
        "colab_type": "code",
        "colab": {}
      },
      "source": [
        "# Regressor\n",
        "time_steps = 30\n",
        "future_steps = 5\n",
        "n_features = train_gru_mrf.shape[1]\n",
        "x_train,x_test,x_val,y_train,y_val,y_test = Regressor(future_steps = future_steps,time_steps = time_steps,n_features = n_features,df_train = train_gru_mrf,df_val = val_gru_mrf,df_test = test_gru_mrf)\n",
        "\n",
        "# Prediction\n",
        "x_train_gru_mrf = gru_mrf.predict(x_train)\n",
        "x_val_gru_mrf = gru_mrf.predict(x_val)\n",
        "x_test_gru_mrf = gru_mrf.predict(x_test)"
      ],
      "execution_count": 11,
      "outputs": []
    },
    {
      "cell_type": "markdown",
      "metadata": {
        "id": "mn4keNMAf6F5",
        "colab_type": "text"
      },
      "source": [
        "- gru"
      ]
    },
    {
      "cell_type": "code",
      "metadata": {
        "id": "Wr89LjQEfp4p",
        "colab_type": "code",
        "colab": {
          "base_uri": "https://localhost:8080/",
          "height": 326
        },
        "outputId": "b469a174-2e2a-4605-841a-cb4b3c2615ff"
      },
      "source": [
        "# Spliting and Normalizing\n",
        "df_train,df_val,df_test = dataSplit(df = df_daily['N02BE'],train_percent = 0.7,val_percent = 0.15)\n",
        "train_gru,val_gru,test_gru = normalizing_data(df_train,df_val,df_test,frange = (0,1))"
      ],
      "execution_count": 12,
      "outputs": [
        {
          "output_type": "stream",
          "text": [
            "(1474,)\n",
            "(316,)\n",
            "(316,)\n",
            "[1.]\n",
            "[0.]\n",
            "\n",
            "\n",
            "[0.46335404]\n",
            "[0.]\n",
            "\n",
            "\n",
            "[0.62173913]\n",
            "[0.]\n",
            "-------------------------\n",
            "(1474, 1)\n",
            "(316, 1)\n",
            "(316, 1)\n"
          ],
          "name": "stdout"
        }
      ]
    },
    {
      "cell_type": "code",
      "metadata": {
        "id": "X275O14giEvq",
        "colab_type": "code",
        "colab": {}
      },
      "source": [
        "# Regressor\n",
        "time_steps = 30\n",
        "future_steps = 5\n",
        "n_features = train_gru.shape[1]\n",
        "x_train,x_test,x_val,y_train,y_val,y_test = Regressor(future_steps = future_steps,time_steps = time_steps,n_features = n_features,df_train = train_gru,df_val = val_gru,df_test = test_gru)\n",
        "\n",
        "# Prediction\n",
        "x_train_gru = gru.predict(x_train)\n",
        "x_val_gru = gru.predict(x_val)\n",
        "x_test_gru = gru.predict(x_test)"
      ],
      "execution_count": 13,
      "outputs": []
    },
    {
      "cell_type": "markdown",
      "metadata": {
        "id": "jrTCsNvQie-7",
        "colab_type": "text"
      },
      "source": [
        "- lstm"
      ]
    },
    {
      "cell_type": "code",
      "metadata": {
        "id": "nQwb2xEJieXF",
        "colab_type": "code",
        "colab": {
          "base_uri": "https://localhost:8080/",
          "height": 326
        },
        "outputId": "02412332-1a47-49c9-9a81-5f2e6f7493d5"
      },
      "source": [
        "# Spliting and Normalizing\n",
        "df_train,df_val,df_test = dataSplit(df = df_daily['N02BE'],train_percent = 0.7,val_percent = 0.15)\n",
        "train_lstm,val_lstm,test_lstm = normalizing_data(df_train,df_val,df_test,frange = (0,1))"
      ],
      "execution_count": 14,
      "outputs": [
        {
          "output_type": "stream",
          "text": [
            "(1474,)\n",
            "(316,)\n",
            "(316,)\n",
            "[1.]\n",
            "[0.]\n",
            "\n",
            "\n",
            "[0.46335404]\n",
            "[0.]\n",
            "\n",
            "\n",
            "[0.62173913]\n",
            "[0.]\n",
            "-------------------------\n",
            "(1474, 1)\n",
            "(316, 1)\n",
            "(316, 1)\n"
          ],
          "name": "stdout"
        }
      ]
    },
    {
      "cell_type": "code",
      "metadata": {
        "id": "NBZN2mQviea5",
        "colab_type": "code",
        "colab": {}
      },
      "source": [
        "# Regressor\n",
        "time_steps = 30\n",
        "future_steps = 5\n",
        "n_features = train_lstm.shape[1]\n",
        "x_train,x_test,x_val,y_train,y_val,y_test = Regressor(future_steps = future_steps,time_steps = time_steps,n_features = n_features,df_train = train_lstm,df_val = val_lstm,df_test = test_lstm)\n",
        "\n",
        "# Prediction\n",
        "x_train_lstm = lstm.predict(x_train)\n",
        "x_val_lstm = lstm.predict(x_val)\n",
        "x_test_lstm = lstm.predict(x_test)"
      ],
      "execution_count": 15,
      "outputs": []
    },
    {
      "cell_type": "markdown",
      "metadata": {
        "id": "wVrEP9PNmZ71",
        "colab_type": "text"
      },
      "source": [
        "## Reshaping data\n",
        " \n",
        "The outputs predictions from the previous networks will be reshaped according to the figure below  \n",
        "\n",
        "![image.png](data:image/png;base64,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)\n"
      ]
    },
    {
      "cell_type": "markdown",
      "metadata": {
        "id": "ShRyVj56XT6H",
        "colab_type": "text"
      },
      "source": [
        "Creating 3D matriz from networks outputs"
      ]
    },
    {
      "cell_type": "code",
      "metadata": {
        "id": "5mc9TmIzjiRw",
        "colab_type": "code",
        "colab": {
          "base_uri": "https://localhost:8080/",
          "height": 163
        },
        "outputId": "d79f2da1-dfb0-4833-c73a-2f1084e1a5e8"
      },
      "source": [
        "x_train = np.array([    x_train_gru_mrf, x_train_gru, x_train_lstm     ])\n",
        "x_val = np.array([    x_val_gru_mrf, x_val_gru, x_val_lstm     ])\n",
        "x_test = np.array([    x_test_gru_mrf, x_test_gru, x_test_lstm     ])\n",
        "\n",
        "# y_train = np.array([    y_train_gru_mrf, y_train_gru, y_train_lstm     ])\n",
        "# y_val = np.array([    y_val_gru_mrf, y_val_gru, y_val_lstm     ])\n",
        "# y_test = np.array([    y_test_gru_mrf, y_test_gru, y_test_lstm     ])\n",
        "\n",
        "print(x_train.shape)\n",
        "print(x_val.shape)\n",
        "print(x_test.shape)\n",
        "print('\\n')\n",
        "print(y_train.shape)\n",
        "print(y_val.shape)\n",
        "print(y_test.shape)"
      ],
      "execution_count": 16,
      "outputs": [
        {
          "output_type": "stream",
          "text": [
            "(3, 1439, 5)\n",
            "(3, 311, 5)\n",
            "(3, 311, 5)\n",
            "\n",
            "\n",
            "(1439, 5)\n",
            "(311, 5)\n",
            "(311, 5)\n"
          ],
          "name": "stdout"
        }
      ]
    },
    {
      "cell_type": "markdown",
      "metadata": {
        "id": "1tjl_HvVeniH",
        "colab_type": "text"
      },
      "source": [
        "\n",
        "![image.png](data:image/png;base64,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)"
      ]
    },
    {
      "cell_type": "markdown",
      "metadata": {
        "id": "hrhKZ9z1udzn",
        "colab_type": "text"
      },
      "source": [
        "# Creating Model"
      ]
    },
    {
      "cell_type": "code",
      "metadata": {
        "id": "X7AhWKeXlrS6",
        "colab_type": "code",
        "colab": {
          "base_uri": "https://localhost:8080/",
          "height": 526
        },
        "outputId": "7a784c1a-ffa7-41a9-ed3a-a0d2c3b4e42c"
      },
      "source": [
        "input_1 = Input(shape=(x_train.shape[0],))\n",
        "input_2 = Input(shape=(x_train.shape[0],))\n",
        "input_3 = Input(shape=(x_train.shape[0],))\n",
        "input_4 = Input(shape=(x_train.shape[0],))\n",
        "input_5 = Input(shape=(x_train.shape[0],))\n",
        "\n",
        "\n",
        "output_1 = Dense(1,activation='linear')(input_1)\n",
        "output_2 = Dense(1,activation='linear')(input_2)\n",
        "output_3 = Dense(1,activation='linear')(input_3)\n",
        "output_4 = Dense(1,activation='linear')(input_4)\n",
        "output_5 = Dense(1,activation='linear')(input_5)\n",
        "\n",
        "model = Model( inputs = [input_1,input_2,input_3,input_4,input_5], outputs = [output_1,output_2,output_3,output_4,output_5] )\n",
        "\n",
        "model.summary()"
      ],
      "execution_count": 17,
      "outputs": [
        {
          "output_type": "stream",
          "text": [
            "Model: \"model\"\n",
            "__________________________________________________________________________________________________\n",
            "Layer (type)                    Output Shape         Param #     Connected to                     \n",
            "==================================================================================================\n",
            "input_1 (InputLayer)            [(None, 3)]          0                                            \n",
            "__________________________________________________________________________________________________\n",
            "input_2 (InputLayer)            [(None, 3)]          0                                            \n",
            "__________________________________________________________________________________________________\n",
            "input_3 (InputLayer)            [(None, 3)]          0                                            \n",
            "__________________________________________________________________________________________________\n",
            "input_4 (InputLayer)            [(None, 3)]          0                                            \n",
            "__________________________________________________________________________________________________\n",
            "input_5 (InputLayer)            [(None, 3)]          0                                            \n",
            "__________________________________________________________________________________________________\n",
            "dense (Dense)                   (None, 1)            4           input_1[0][0]                    \n",
            "__________________________________________________________________________________________________\n",
            "dense_1 (Dense)                 (None, 1)            4           input_2[0][0]                    \n",
            "__________________________________________________________________________________________________\n",
            "dense_2 (Dense)                 (None, 1)            4           input_3[0][0]                    \n",
            "__________________________________________________________________________________________________\n",
            "dense_3 (Dense)                 (None, 1)            4           input_4[0][0]                    \n",
            "__________________________________________________________________________________________________\n",
            "dense_4 (Dense)                 (None, 1)            4           input_5[0][0]                    \n",
            "==================================================================================================\n",
            "Total params: 20\n",
            "Trainable params: 20\n",
            "Non-trainable params: 0\n",
            "__________________________________________________________________________________________________\n"
          ],
          "name": "stdout"
        }
      ]
    },
    {
      "cell_type": "code",
      "metadata": {
        "id": "z_El7Xjfws3u",
        "colab_type": "code",
        "colab": {}
      },
      "source": [
        "#train\n",
        "input_1_train = x_train[:,:,0].T\n",
        "input_2_train = x_train[:,:,1].T\n",
        "input_3_train = x_train[:,:,2].T\n",
        "input_4_train = x_train[:,:,3].T\n",
        "input_5_train = x_train[:,:,4].T\n",
        "\n",
        "output_1_train = y_train[:,0]\n",
        "output_2_train = y_train[:,1]\n",
        "output_3_train = y_train[:,2]\n",
        "output_4_train = y_train[:,3]\n",
        "output_5_train = y_train[:,4]\n",
        "\n",
        "#val\n",
        "input_1_val = x_val[:,:,0].T\n",
        "input_2_val = x_val[:,:,1].T\n",
        "input_3_val = x_val[:,:,2].T\n",
        "input_4_val = x_val[:,:,3].T\n",
        "input_5_val = x_val[:,:,4].T\n",
        "\n",
        "output_1_val = y_val[:,0]\n",
        "output_2_val = y_val[:,1]\n",
        "output_3_val = y_val[:,2]\n",
        "output_4_val = y_val[:,3]\n",
        "output_5_val = y_val[:,4]\n",
        "\n",
        "#test\n",
        "input_1_test = x_test[:,:,0].T\n",
        "input_2_test = x_test[:,:,1].T\n",
        "input_3_test = x_test[:,:,2].T\n",
        "input_4_test = x_test[:,:,3].T\n",
        "input_5_test = x_test[:,:,4].T\n",
        "\n",
        "output_1_test = y_test[:,0]\n",
        "output_2_test = y_test[:,1]\n",
        "output_3_test = y_test[:,2]\n",
        "output_4_test = y_test[:,3]\n",
        "output_5_test = y_test[:,4]\n"
      ],
      "execution_count": 18,
      "outputs": []
    },
    {
      "cell_type": "markdown",
      "metadata": {
        "id": "7C0KU4jOLB3L",
        "colab_type": "text"
      },
      "source": [
        "# Final Dense Layer\n",
        "\n",
        "This layer will recive the prediction from the others network and make a final prediction."
      ]
    },
    {
      "cell_type": "markdown",
      "metadata": {
        "id": "86pVPDYuunWd",
        "colab_type": "text"
      },
      "source": [
        "## Trainig Model"
      ]
    },
    {
      "cell_type": "code",
      "metadata": {
        "id": "JxPSuiNmpAw1",
        "colab_type": "code",
        "colab": {}
      },
      "source": [
        "model.compile(optimizer='adam',metrics=['mae'],loss='mse')\n",
        "history = model.fit( [ input_1_train,input_2_train,input_3_train,input_4_train,input_5_train ], [ output_1_train,output_2_train,output_3_train,output_4_train,output_5_train ],\n",
        "                    validation_data=[ [ input_1_val,input_2_val,input_3_val,input_4_val,input_5_val ] , [ output_1_val,output_2_val,output_3_val,output_4_val,output_5_val ] ] ,epochs=500,batch_size=32,verbose=0)"
      ],
      "execution_count": 19,
      "outputs": []
    },
    {
      "cell_type": "code",
      "metadata": {
        "id": "WYfrczByWBO0",
        "colab_type": "code",
        "colab": {
          "base_uri": "https://localhost:8080/",
          "height": 392
        },
        "outputId": "3f0fa083-d85c-4aba-fa98-a52f4ad724ba"
      },
      "source": [
        "plt.figure(figsize=(20,6))\n",
        "plt.plot(history.history['loss'])\n",
        "plt.legend(['Train Loss'])"
      ],
      "execution_count": 27,
      "outputs": [
        {
          "output_type": "execute_result",
          "data": {
            "text/plain": [
              "<matplotlib.legend.Legend at 0x7fd7721859b0>"
            ]
          },
          "metadata": {
            "tags": []
          },
          "execution_count": 27
        },
        {
          "output_type": "display_data",
          "data": {
            "image/png": "[encoded data removed]",
            "text/plain": [
              "<Figure size 1440x432 with 1 Axes>"
            ]
          },
          "metadata": {
            "tags": [],
            "needs_background": "light"
          }
        }
      ]
    },
    {
      "cell_type": "code",
      "metadata": {
        "id": "8a1VJa70xOur",
        "colab_type": "code",
        "colab": {
          "base_uri": "https://localhost:8080/",
          "height": 392
        },
        "outputId": "85029dea-a04e-427f-a1f7-3580765539a3"
      },
      "source": [
        "plt.figure(figsize=(20,6))\n",
        "plt.plot(history.history['dense_mae'])\n",
        "plt.legend(['Train Metric'])"
      ],
      "execution_count": 26,
      "outputs": [
        {
          "output_type": "execute_result",
          "data": {
            "text/plain": [
              "<matplotlib.legend.Legend at 0x7fd75ff17240>"
            ]
          },
          "metadata": {
            "tags": []
          },
          "execution_count": 26
        },
        {
          "output_type": "display_data",
          "data": {
            "image/png": "[encoded data removed]",
            "text/plain": [
              "<Figure size 1440x432 with 1 Axes>"
            ]
          },
          "metadata": {
            "tags": [],
            "needs_background": "light"
          }
        }
      ]
    },
    {
      "cell_type": "code",
      "metadata": {
        "id": "oMWXs6v_xYJZ",
        "colab_type": "code",
        "colab": {
          "base_uri": "https://localhost:8080/",
          "height": 255
        },
        "outputId": "0bf702ff-d2d4-474f-9d53-25f232f620b8"
      },
      "source": [
        "model.evaluate([ input_1_val,input_2_val,input_3_val,input_4_val,input_5_val ] , [ output_1_val,output_2_val,output_3_val,output_4_val,output_5_val ])"
      ],
      "execution_count": 23,
      "outputs": [
        {
          "output_type": "stream",
          "text": [
            "10/10 [==============================] - 0s 4ms/step - loss: 0.0241 - dense_loss: 0.0048 - dense_1_loss: 0.0048 - dense_2_loss: 0.0048 - dense_3_loss: 0.0048 - dense_4_loss: 0.0049 - dense_mae: 0.0542 - dense_1_mae: 0.0542 - dense_2_mae: 0.0547 - dense_3_mae: 0.0553 - dense_4_mae: 0.0556\n"
          ],
          "name": "stdout"
        },
        {
          "output_type": "execute_result",
          "data": {
            "text/plain": [
              "[0.02406768687069416,\n",
              " 0.004755478352308273,\n",
              " 0.0047806911170482635,\n",
              " 0.004841597285121679,\n",
              " 0.004802626091986895,\n",
              " 0.004887295421212912,\n",
              " 0.05422256514430046,\n",
              " 0.054249320179224014,\n",
              " 0.05466373637318611,\n",
              " 0.05526835098862648,\n",
              " 0.05557941645383835]"
            ]
          },
          "metadata": {
            "tags": []
          },
          "execution_count": 23
        }
      ]
    },
    {
      "cell_type": "code",
      "metadata": {
        "id": "EOTbeWRSz816",
        "colab_type": "code",
        "colab": {
          "base_uri": "https://localhost:8080/",
          "height": 255
        },
        "outputId": "6a1dee8f-f1d3-446c-950f-20a61103bd18"
      },
      "source": [
        "model.evaluate([ input_1_test,input_2_test,input_3_test,input_4_test,input_5_test ] , [ output_1_test,output_2_test,output_3_test,output_4_test,output_5_test ])"
      ],
      "execution_count": 25,
      "outputs": [
        {
          "output_type": "stream",
          "text": [
            "10/10 [==============================] - 0s 4ms/step - loss: 0.0338 - dense_loss: 0.0065 - dense_1_loss: 0.0066 - dense_2_loss: 0.0075 - dense_3_loss: 0.0069 - dense_4_loss: 0.0063 - dense_mae: 0.0572 - dense_1_mae: 0.0577 - dense_2_mae: 0.0607 - dense_3_mae: 0.0603 - dense_4_mae: 0.0591\n"
          ],
          "name": "stdout"
        },
        {
          "output_type": "execute_result",
          "data": {
            "text/plain": [
              "[0.033782169222831726,\n",
              " 0.006527849473059177,\n",
              " 0.006571101024746895,\n",
              " 0.007510652765631676,\n",
              " 0.006915353238582611,\n",
              " 0.0062572103925049305,\n",
              " 0.057221729308366776,\n",
              " 0.05771554633975029,\n",
              " 0.060695674270391464,\n",
              " 0.0603080578148365,\n",
              " 0.05908425897359848]"
            ]
          },
          "metadata": {
            "tags": []
          },
          "execution_count": 25
        }
      ]
    },
    {
      "cell_type": "code",
      "metadata": {
        "id": "cH9t_6Kiz9Tw",
        "colab_type": "code",
        "colab": {
          "base_uri": "https://localhost:8080/",
          "height": 35
        },
        "outputId": "895d3e09-f259-426a-f1b3-d40b2e88d746"
      },
      "source": [
        "(0.0572+0.0577+0.0607+0.0603+0.0591)/5"
      ],
      "execution_count": 28,
      "outputs": [
        {
          "output_type": "execute_result",
          "data": {
            "text/plain": [
              "0.059"
            ]
          },
          "metadata": {
            "tags": []
          },
          "execution_count": 28
        }
      ]
    },
    {
      "cell_type": "code",
      "metadata": {
        "id": "7llIPawL0pUI",
        "colab_type": "code",
        "colab": {}
      },
      "source": [
        ""
      ],
      "execution_count": null,
      "outputs": []
    }
  ]
}