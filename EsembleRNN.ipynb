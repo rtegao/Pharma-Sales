{
  "nbformat": 4,
  "nbformat_minor": 0,
  "metadata": {
    "colab": {
      "name": "EsembleRNN.ipynb",
      "provenance": []
    },
    "kernelspec": {
      "name": "python3",
      "display_name": "Python 3"
    }
  },
  "cells": [
    {
      "cell_type": "markdown",
      "metadata": {
        "id": "RwDAgmRblWz6",
        "colab_type": "text"
      },
      "source": [
        "# Importing Libraries"
      ]
    },
    {
      "cell_type": "code",
      "metadata": {
        "id": "GGODZUi_hJI6",
        "colab_type": "code",
        "colab": {}
      },
      "source": [
        "import pandas as pd\n",
        "from tensorflow.keras.models import load_model\n",
        "from tensorflow.keras.models import Sequential\n",
        "from tensorflow.keras.layers import Dense\n",
        "from tensorflow.keras.layers import LSTM,GRU"
      ],
      "execution_count": 9,
      "outputs": []
    },
    {
      "cell_type": "markdown",
      "metadata": {
        "id": "5iUGY3qPlaaC",
        "colab_type": "text"
      },
      "source": [
        "# Importing DataBase"
      ]
    },
    {
      "cell_type": "code",
      "metadata": {
        "id": "yhjDfefMkFre",
        "colab_type": "code",
        "colab": {}
      },
      "source": [
        "df_daily = pd.read_csv('/content/drive/My Drive/ML Projects/Pharma Sales/Data/salesdaily.csv')\n",
        "df_daily = df_daily['N02BE']\n"
      ],
      "execution_count": 10,
      "outputs": []
    },
    {
      "cell_type": "markdown",
      "metadata": {
        "id": "66FCb02FlfyM",
        "colab_type": "text"
      },
      "source": [
        "# Importing Pre-Treined models"
      ]
    },
    {
      "cell_type": "code",
      "metadata": {
        "id": "4pC5kWVxlowD",
        "colab_type": "code",
        "colab": {}
      },
      "source": [
        "gru_mrf = load_model('/content/drive/My Drive/ML Projects/Pharma Sales/GRU Models/GRU_MostRelavantFeatures.h5') #time_step = 30\n",
        "gru_mrf_wm = load_model('/content/drive/My Drive/ML Projects/Pharma Sales/GRU Models/GRU_MostRelavantFeatures_weekdayMonth.h5')#time_step = 120\n",
        "gru = load_model('/content/drive/My Drive/ML Projects/Pharma Sales/GRU Models/GRU_OneFeature.h5')#time_step = 30\n",
        "gru_wm = load_model('/content/drive/My Drive/ML Projects/Pharma Sales/GRU Models/GRU_weekdayMonth.h5')#time_step = 120\n",
        "gru_wm_cylic = load_model('/content/drive/My Drive/ML Projects/Pharma Sales/GRU Models/GRU_weekdayMonth_cyclic.h5')#time_step = 120"
      ],
      "execution_count": 12,
      "outputs": []
    },
    {
      "cell_type": "code",
      "metadata": {
        "id": "YSssEYLFtgJK",
        "colab_type": "code",
        "colab": {}
      },
      "source": [
        "lstm_mrf_wm = load_model('/content/drive/My Drive/ML Projects/Pharma Sales/LSTM Models/LSTM_multiFeature_mostRelevantFeatures_weekdayMonth.h5')#time_step = 60\n",
        "lstm = load_model('/content/drive/My Drive/ML Projects/Pharma Sales/LSTM Models/LSTM_oneFeature.h5')#time_step = 30\n",
        "lstm_wm = load_model('/content/drive/My Drive/ML Projects/Pharma Sales/LSTM Models/LSTM_multiFeature_weekdayMonth.h5')#time_step = 60"
      ],
      "execution_count": 13,
      "outputs": []
    },
    {
      "cell_type": "markdown",
      "metadata": {
        "id": "pApSDRUTlpiE",
        "colab_type": "text"
      },
      "source": [
        "#Functions"
      ]
    },
    {
      "cell_type": "code",
      "metadata": {
        "id": "1RCXMaclkpE0",
        "colab_type": "code",
        "colab": {}
      },
      "source": [
        "def dataSplit(df,train_percent,val_percent):\n",
        "  train_limit = int(round((df.shape[0])*train_percent,0))\n",
        "  val_limit = int(round((df.shape[0])*(train_percent+val_percent),0))\n",
        "  \n",
        "  df_train = df[:train_limit]\n",
        "  df_val = df[train_limit:val_limit]\n",
        "  df_test = df[val_limit:]\n",
        "\n",
        "  print(df_train.shape)\n",
        "  print(df_val.shape)\n",
        "  print(df_test.shape)\n",
        "\n",
        "  return df_train,df_val,df_test"
      ],
      "execution_count": 14,
      "outputs": []
    },
    {
      "cell_type": "code",
      "metadata": {
        "id": "ZmW1QqKYk5H7",
        "colab_type": "code",
        "colab": {}
      },
      "source": [
        "def normalizing_data(df_train,df_val,df_test,frange):\n",
        "  sc = MinMaxScaler(feature_range = frange)\n",
        "  try:\n",
        "    aux = df_train.shape[1]\n",
        "    df_train_norm = sc.fit_transform(df_train)\n",
        "    df_val_norm = sc.transform(df_val)\n",
        "    df_test_norm = sc.transform(df_test)\n",
        "\n",
        "  except:\n",
        "    df_train = df_train.values.reshape(-1,1)\n",
        "    df_val = df_val.values.reshape(-1,1)\n",
        "    df_test = df_test.values.reshape(-1,1)\n",
        "\n",
        "    \n",
        "    df_train_norm = sc.fit_transform(df_train)\n",
        "    df_val_norm = sc.transform(df_val)\n",
        "    df_test_norm = sc.transform(df_test)\n",
        "\n",
        "  print(df_train_norm.max(axis=0))\n",
        "  print(df_train_norm.min(axis=0))\n",
        "  print('\\n')\n",
        "\n",
        "  print(df_val_norm.max(axis=0))\n",
        "  print(df_val_norm.min(axis=0))\n",
        "  print('\\n')\n",
        "\n",
        "  print(df_test_norm.max(axis=0))\n",
        "  print(df_test_norm.min(axis=0))\n",
        "\n",
        "  print('-------------------------')\n",
        "\n",
        "  print(df_train_norm.shape)\n",
        "  print(df_val_norm.shape)\n",
        "  print(df_test_norm.shape)\n",
        "  return df_train_norm,df_val_norm,df_test_norm"
      ],
      "execution_count": 15,
      "outputs": []
    },
    {
      "cell_type": "code",
      "metadata": {
        "id": "aToqkkEJluMV",
        "colab_type": "code",
        "colab": {}
      },
      "source": [
        "def Regressor(future_steps,time_steps,n_features,df_train,df_val,df_test):\n",
        "  # future_steps: how many days in the furure to predict \n",
        "  # time_steps: number of samples the LSTM model will use for predict 28 days in the future\n",
        "  # n_features: number of features (LSTM input) \n",
        "\n",
        "  #################### TRAIN #################################################\n",
        "  # Defining the number of samples for the train data\n",
        "  n_samples = df_train.shape[0]\n",
        "  x_train = []\n",
        "  y_train = []\n",
        "\n",
        "  # shaping data to have the number of time_steps in the x_train ans the 28 future values in the y_train \n",
        "  for i in range(time_steps,n_samples - future_steps): \n",
        "    x_train.append(df_train[i - time_steps : i, :]) \n",
        "    y_train.append(df_train[i : i + future_steps, -1 ]) \n",
        "\n",
        "  x_train,y_train = np.array(x_train),np.array(y_train) # transforming in array\n",
        "  # LSTM need 3D tensor as input \n",
        "  x_train = np.reshape(x_train,(x_train.shape[0],x_train.shape[1],n_features))  \n",
        "\n",
        "  ##################### VALIDATION ###############################################\n",
        "\n",
        "  df_val = np.concatenate((df_train[-time_steps:],df_val))\n",
        "\n",
        "  n_samples = df_val.shape[0]\n",
        "  x_val = []\n",
        "  y_val = []\n",
        "\n",
        "  for i in range(time_steps,n_samples - future_steps):\n",
        "    x_val.append(df_val[i - time_steps : i, :]) \n",
        "    y_val.append(df_val[i : i + future_steps,-1]) \n",
        "\n",
        "  x_val,y_val = np.array(x_val),np.array(y_val)\n",
        "  x_val = np.reshape(x_val,(x_val.shape[0],x_val.shape[1],n_features))\n",
        "\n",
        "  ####################### TEST ################################################\n",
        "\n",
        "  df_test = np.concatenate((df_val[-time_steps:],df_test))\n",
        "  n_samples = df_test.shape[0]\n",
        "  x_test = []\n",
        "  y_test = []\n",
        "\n",
        "  for i in range(time_steps,n_samples - future_steps):\n",
        "    x_test.append(df_test[i - time_steps : i, :]) \n",
        "    y_test.append(df_test[i : i + future_steps,-1]) \n",
        "\n",
        "  x_test,y_test = np.array(x_test),np.array(y_test)\n",
        "  x_test = np.reshape(x_test,(x_test.shape[0],x_test.shape[1],n_features))\n",
        "\n",
        "  x_train = x_train.astype(np.float32)\n",
        "  y_train = y_train.astype(np.float32)\n",
        "\n",
        "  x_val = x_val.astype(np.float32)\n",
        "  y_val = y_val.astype(np.float32)\n",
        "\n",
        "  x_test = x_test.astype(np.float32)\n",
        "  y_test = y_test.astype(np.float32)\n",
        "  \n",
        "  return x_train,x_test,x_val,y_train,y_val,y_test"
      ],
      "execution_count": 16,
      "outputs": []
    },
    {
      "cell_type": "markdown",
      "metadata": {
        "id": "7fYzcv0YJ5fs",
        "colab_type": "text"
      },
      "source": [
        "# Extracting models weights"
      ]
    },
    {
      "cell_type": "code",
      "metadata": {
        "id": "ZEok2V_uJ4de",
        "colab_type": "code",
        "colab": {}
      },
      "source": [
        ""
      ],
      "execution_count": null,
      "outputs": []
    }
  ]
}